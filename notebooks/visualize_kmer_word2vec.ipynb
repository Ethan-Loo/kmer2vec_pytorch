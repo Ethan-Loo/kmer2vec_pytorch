{
 "cells": [
  {
   "cell_type": "code",
   "execution_count": null,
   "metadata": {
    "collapsed": true,
    "deletable": true,
    "editable": true
   },
   "outputs": [],
   "source": [
    "#%matplotlib inline\n",
    "%matplotlib notebook\n",
    "\n",
    "from __future__ import print_function\n",
    "import numpy as np\n",
    "import matplotlib.pyplot as plt\n",
    "from mpl_toolkits.mplot3d import Axes3D\n",
    "from matplotlib import colors\n",
    "from six.moves import cPickle as pickle\n",
    "from sklearn.manifold import TSNE\n",
    "from collections import Counter\n",
    "from glob import glob\n",
    "\n",
    "plt.style.use('ggplot')"
   ]
  },
  {
   "cell_type": "markdown",
   "metadata": {},
   "source": [
    "### Helper Functions"
   ]
  },
  {
   "cell_type": "code",
   "execution_count": null,
   "metadata": {
    "collapsed": true,
    "deletable": true,
    "editable": true
   },
   "outputs": [],
   "source": [
    "def gc(sequence):\n",
    "    sequence = sequence.upper()\n",
    "    return (sequence.count('G') + sequence.count('C')) / float(len(sequence))\n",
    "\n",
    "\n",
    "def seq_entropy(sequence):\n",
    "    bases = {'A', 'C', 'G', 'T'}\n",
    "    c = Counter(sequence.upper())\n",
    "    tot = float(sum([c[b] for b in bases]))\n",
    "    c = {b: c[b]/tot for b in bases}\n",
    "    \n",
    "    return sum([(-c[b]) * np.log2(c[b]) for b in bases if c[b] > 0])\n",
    "\n",
    "\n",
    "def patten2number(sequence):\n",
    "    \"\"\" Converts DNA sequence into an int. \"\"\"\n",
    "    BASE_TO_NUMBER = {'A': 0, 'C': 1, 'G': 2, 'T': 3}\n",
    "    if len(sequence) == 0:\n",
    "        return 0\n",
    "    last_base = sequence[-1]\n",
    "    prefix = sequence[:-1]\n",
    "    return 4 * patten2number(prefix) + BASE_TO_NUMBER[last_base]\n",
    "    \n",
    "\n",
    "def number2patten(number, kmer_size):\n",
    "    \"\"\" Converts an int into a string with k nucleotides. \"\"\"\n",
    "    NUMBER_TO_BASE = ('A', 'C', 'G', 'T')\n",
    "    if kmer_size == 1:\n",
    "        return NUMBER_TO_BASE[number]\n",
    "    prefix_index = number // 4\n",
    "    base = NUMBER_TO_BASE[number % 4]\n",
    "    return number2patten(prefix_index, kmer_size - 1) + base"
   ]
  },
  {
   "cell_type": "markdown",
   "metadata": {
    "deletable": true,
    "editable": true
   },
   "source": [
    "### Load Embeddings"
   ]
  },
  {
   "cell_type": "code",
   "execution_count": null,
   "metadata": {
    "collapsed": false,
    "deletable": true,
    "editable": true
   },
   "outputs": [],
   "source": [
    "kmer_sizes = np.array([3, 4, 5])\n",
    "index_offset = np.concatenate(([0], (4**kmer_sizes))).cumsum()\n",
    "\n",
    "pickle_file = '../max5_min3_mers_10padding_64embedding_epoch1_batch0.pickle'\n",
    "with open(pickle_file, 'rb') as f:\n",
    "    pre_normalized_embeddings = pickle.load(f)\n",
    "\n",
    "glob_str = '../max5_min3_mers_10padding_64embedding_epoch1_batch*.pickle'\n",
    "emb_files = {int(f.rstrip('.pickle').split('batch')[1]): f for f in glob(glob_str)}\n",
    "pickle_file = emb_files[sorted(emb_files)[-1]]\n",
    "print(pickle_file)\n",
    "        \n",
    "with open(pickle_file, 'rb') as f:\n",
    "    post_normalized_embeddings = pickle.load(f)\n",
    "\n",
    "print(pre_normalized_embeddings.shape)\n",
    "print(post_normalized_embeddings.shape)\n",
    "\n",
    "# Get 5-mers\n",
    "pre_normalized_embeddings = pre_normalized_embeddings[index_offset[2]:index_offset[3]]\n",
    "post_normalized_embeddings = post_normalized_embeddings[index_offset[2]:index_offset[3]]\n",
    "print('Only 5mers:', pre_normalized_embeddings.shape)\n",
    "print('Only 5mers:', post_normalized_embeddings.shape)"
   ]
  },
  {
   "cell_type": "markdown",
   "metadata": {
    "deletable": true,
    "editable": true
   },
   "source": [
    "### Convert into 2D Space (t-distributed stochastic neighbor embedding (t-SNE))"
   ]
  },
  {
   "cell_type": "code",
   "execution_count": null,
   "metadata": {
    "collapsed": false,
    "deletable": true,
    "editable": true
   },
   "outputs": [],
   "source": [
    "KMER_SIZE = 5\n",
    "#NUM_POINTS = 5000\n",
    "\n",
    "#random_kmers = np.random.choice(4**KMER_SIZE, NUM_POINTS, replace=False)\n",
    "#random_kmers.sort()\n",
    "#print(len(random_kmers), random_kmers[:10])"
   ]
  },
  {
   "cell_type": "code",
   "execution_count": null,
   "metadata": {
    "collapsed": false,
    "deletable": true,
    "editable": true
   },
   "outputs": [],
   "source": [
    "# Subset\n",
    "#labels = random_kmers  # Needs to be sorted\n",
    "\n",
    "# All\n",
    "labels = range(4**KMER_SIZE)\n",
    "\n",
    "labels_entropy = [seq_entropy(number2patten(s, KMER_SIZE)) for s in labels]\n",
    "labels_gc = [gc(number2patten(s, KMER_SIZE)) for s in labels]\n",
    "\n",
    "# Frequence in hg38\n",
    "labels_frequence = {}\n",
    "for kmer in open('../reference_vocabulary/all_{}-mers.tsv'.format(KMER_SIZE)):\n",
    "    seq, freq = kmer.split()\n",
    "    seq = patten2number(seq)\n",
    "    freq = int(freq)\n",
    "    if seq in labels:\n",
    "        labels_frequence[seq] = freq\n",
    "    \n",
    "labels_frequence = [np.log10(labels_frequence[k]) for k in sorted(labels_frequence.keys())]\n",
    "\n",
    "# Frequence in hg38 LINE\n",
    "labels_frequence_line = {}\n",
    "for kmer in open('../reference_vocabulary/rmsk_LINE_{}-mers.tsv'.format(KMER_SIZE)):\n",
    "    seq, freq = kmer.split()\n",
    "    seq = patten2number(seq)\n",
    "    freq = int(freq)\n",
    "    if seq in labels:\n",
    "        labels_frequence_line[seq] = freq\n",
    "\n",
    "labels_frequence_line = [np.log10(labels_frequence_line[k]) for k in sorted(labels_frequence_line.keys())]\n",
    "    \n",
    "# Frequence in hg38 SINE\n",
    "labels_frequence_sine = {}\n",
    "for kmer in open('../reference_vocabulary/rmsk_SINE_{}-mers.tsv'.format(KMER_SIZE)):\n",
    "    seq, freq = kmer.split()\n",
    "    seq = patten2number(seq)\n",
    "    freq = int(freq)\n",
    "    if seq in labels:\n",
    "        labels_frequence_sine[seq] = freq\n",
    "\n",
    "labels_frequence_sine = [np.log10(labels_frequence_sine[k]) for k in sorted(labels_frequence_sine.keys())]\n",
    "\n",
    "    \n",
    "print(len(labels_entropy), labels_entropy[:10])\n",
    "print(len(labels_gc), labels_gc[:10])\n",
    "print(len(labels_frequence), labels_frequence[:10])\n",
    "print(len(labels_frequence_line), labels_frequence_line[:10])\n",
    "print(len(labels_frequence_sine), labels_frequence_sine[:10])"
   ]
  },
  {
   "cell_type": "code",
   "execution_count": null,
   "metadata": {
    "collapsed": false,
    "deletable": true,
    "editable": true
   },
   "outputs": [],
   "source": [
    "tsne = TSNE(perplexity=50, n_components=2, init='pca', n_iter=10000)\n",
    "\n",
    "## Subset\n",
    "#pre_two_d_embeddings = tsne.fit_transform([pre_normalized_embeddings[s, :] for s in random_kmers])\n",
    "#post_two_d_embeddings = tsne.fit_transform([post_normalized_embeddings[s, :] for s in random_kmers])\n",
    "\n",
    "## All\n",
    "pre_two_d_embeddings = tsne.fit_transform(pre_normalized_embeddings)\n",
    "post_two_d_embeddings = tsne.fit_transform(post_normalized_embeddings)"
   ]
  },
  {
   "cell_type": "markdown",
   "metadata": {},
   "source": [
    "### Looking at the Result"
   ]
  },
  {
   "cell_type": "code",
   "execution_count": null,
   "metadata": {
    "collapsed": false,
    "deletable": true,
    "editable": true
   },
   "outputs": [],
   "source": [
    "def plot(x, y, labels, title):\n",
    "    norm = colors.Normalize(vmin=min(labels), vmax=max(labels))\n",
    "    plt.scatter(x, y, c=labels, alpha=0.3, cmap=plt.get_cmap('jet'), norm=norm)\n",
    "    plt.colorbar()\n",
    "    plt.title(title)\n",
    "\n",
    "pre_x = pre_two_d_embeddings[:, 0]\n",
    "pre_y = pre_two_d_embeddings[:, 1]\n",
    "\n",
    "post_x = post_two_d_embeddings[:, 0]\n",
    "post_y = post_two_d_embeddings[:, 1]\n",
    "\n",
    "plt.figure(figsize=(10, 20))  # in inches\n",
    "\n",
    "plt.subplot(5,2,1)\n",
    "plot(pre_two_d_embeddings[:, 0], pre_two_d_embeddings[:, 1], labels_gc, 'Pre GC-Ratio')\n",
    "\n",
    "plt.subplot(5,2,2)\n",
    "plot(post_two_d_embeddings[:, 0], post_two_d_embeddings[:, 1], labels_gc, 'Post GC-Ratio')\n",
    "\n",
    "plt.subplot(5,2,3)\n",
    "plot(pre_two_d_embeddings[:, 0], pre_two_d_embeddings[:, 1], labels_entropy, 'Pre Entropy')\n",
    "\n",
    "plt.subplot(5,2,4)\n",
    "plot(post_two_d_embeddings[:, 0], post_two_d_embeddings[:, 1], labels_entropy, 'Post Entropy')\n",
    "\n",
    "plt.subplot(5,2,5)\n",
    "plot(pre_two_d_embeddings[:, 0], pre_two_d_embeddings[:, 1], labels_frequence, 'Pre Frequence (log10)')\n",
    "\n",
    "plt.subplot(5,2,6)\n",
    "plot(post_two_d_embeddings[:, 0], post_two_d_embeddings[:, 1], labels_frequence, 'Post Frequence (log10)')\n",
    "\n",
    "plt.subplot(5,2,7)\n",
    "plot(pre_two_d_embeddings[:, 0], pre_two_d_embeddings[:, 1], labels_frequence_line, 'Pre LINE Frequence (log10)')\n",
    "\n",
    "plt.subplot(5,2,8)\n",
    "plot(post_two_d_embeddings[:, 0], post_two_d_embeddings[:, 1], labels_frequence_line, 'Post LINE Frequence (log10)')\n",
    "\n",
    "plt.subplot(5,2,9)\n",
    "plot(pre_two_d_embeddings[:, 0], pre_two_d_embeddings[:, 1], labels_frequence_sine, 'Pre SINE Frequence (log10)')\n",
    "\n",
    "plt.subplot(5,2,10)\n",
    "plot(post_two_d_embeddings[:, 0], post_two_d_embeddings[:, 1], labels_frequence_sine, 'Post SINE Frequence (log10)')\n",
    "\n",
    "\n",
    "plt.show()"
   ]
  },
  {
   "cell_type": "markdown",
   "metadata": {
    "deletable": true,
    "editable": true
   },
   "source": [
    "### 3D"
   ]
  },
  {
   "cell_type": "code",
   "execution_count": null,
   "metadata": {
    "collapsed": true,
    "deletable": true,
    "editable": true
   },
   "outputs": [],
   "source": [
    "tsne_3d = TSNE(perplexity=50, n_components=3, init='pca', n_iter=5000)\n",
    "\n",
    "#post_3d_embeddings = tsne_3d.fit_transform([post_normalized_embeddings[s, :] for s in random_kmers])\n",
    "\n",
    "# All\n",
    "post_3d_embeddings = tsne_3d.fit_transform(post_normalized_embeddings)"
   ]
  },
  {
   "cell_type": "code",
   "execution_count": null,
   "metadata": {
    "collapsed": false,
    "deletable": true,
    "editable": true
   },
   "outputs": [],
   "source": [
    "post_x = post_3d_embeddings[:, 0]\n",
    "post_y = post_3d_embeddings[:, 1]\n",
    "post_z = post_3d_embeddings[:, 2]\n",
    "\n",
    "fig = plt.figure(figsize=(12,12))\n",
    "ax = plt.axes(projection='3d')\n",
    "plt.gca().patch.set_facecolor('white')\n",
    "\n",
    "label_type = labels_frequence\n",
    "\n",
    "norm = colors.Normalize(vmin=min(label_type), vmax=max(label_type))\n",
    "ax.scatter(post_x, post_y, post_z, alpha=0.3, c=label_type, cmap=plt.get_cmap('jet'), norm=norm)\n",
    "\n",
    "plt.show()"
   ]
  }
 ],
 "metadata": {
  "kernelspec": {
   "display_name": "Python 3",
   "language": "python",
   "name": "python3"
  },
  "language_info": {
   "codemirror_mode": {
    "name": "ipython",
    "version": 3
   },
   "file_extension": ".py",
   "mimetype": "text/x-python",
   "name": "python",
   "nbconvert_exporter": "python",
   "pygments_lexer": "ipython3",
   "version": "3.4.3"
  }
 },
 "nbformat": 4,
 "nbformat_minor": 0
}
