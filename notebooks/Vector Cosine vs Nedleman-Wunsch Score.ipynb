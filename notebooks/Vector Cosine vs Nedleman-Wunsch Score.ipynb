{
 "cells": [
  {
   "cell_type": "code",
   "execution_count": null,
   "metadata": {
    "collapsed": false,
    "deletable": true,
    "editable": true
   },
   "outputs": [],
   "source": [
    "%matplotlib inline\n",
    "#%matplotlib notebook\n",
    "\n",
    "import pickle\n",
    "import sys\n",
    "import os\n",
    "import numpy as np\n",
    "import matplotlib.pyplot as plt\n",
    "import seaborn as sns\n",
    "import pandas as pd\n",
    "from collections import defaultdict\n",
    "from scipy import spatial\n",
    "from Bio import pairwise2\n",
    "from tqdm import tqdm\n",
    "from glob import glob\n",
    "\n",
    "if '../' not in sys.path:\n",
    "    sys.path.append('../')\n",
    "\n",
    "from utils import number2patten\n",
    "from utils import multisize_patten2number, number2multisize_patten\n",
    "from utils import slice_out_kmer\n",
    "\n",
    "#sns.set(style='ticks')\n",
    "sns.set_style('whitegrid')"
   ]
  },
  {
   "cell_type": "markdown",
   "metadata": {
    "deletable": true,
    "editable": true
   },
   "source": [
    "### Load Embeddings"
   ]
  },
  {
   "cell_type": "code",
   "execution_count": null,
   "metadata": {
    "collapsed": false,
    "deletable": true,
    "editable": true
   },
   "outputs": [],
   "source": [
    "kmer_sizes = np.array([3, 4, 5, 6, 7, 8])\n",
    "\n",
    "glob_str = '../max8_min3_mers_15padding_100embedding_epoch1_batch*.pickle'\n",
    "emb_files = {int(f.rstrip('.pickle').split('batch')[1]): f for f in glob(glob_str)}\n",
    "latest_emb_file = emb_files[sorted(emb_files)[-1]]\n",
    "print(latest_emb_file)\n",
    "\n",
    "kmer_emb = pickle.load(open(latest_emb_file, 'rb'))\n",
    "print('All:', kmer_emb.shape)"
   ]
  },
  {
   "cell_type": "markdown",
   "metadata": {
    "deletable": true,
    "editable": true
   },
   "source": [
    "### Computing Nedleman-Wunsch Score and Cosine Distance"
   ]
  },
  {
   "cell_type": "code",
   "execution_count": null,
   "metadata": {
    "collapsed": false,
    "deletable": true,
    "editable": true
   },
   "outputs": [],
   "source": [
    "def get_rnd_comb(kmer_size, **kwargs):\n",
    "    num_kmers = np.arange(4**kmer_size)\n",
    "    comb = np.random.choice(num_kmers, (kwargs['size'], 2), replace=True)\n",
    "    return comb\n",
    "\n",
    "\n",
    "def get_comb(kmer_size, **kwargs):\n",
    "    num_kmers = 4**kmer_size\n",
    "    for i in range(0, num_kmers):\n",
    "        for ii in range(i+1, num_kmers):\n",
    "            yield i, ii\n",
    "\n",
    "\n",
    "def compute_scores(kmer_embeddings, kmer_size, max_kmer_size=3, \n",
    "                   new_global_align=False, new_cosine_similarity=False):\n",
    "    \n",
    "    np_files = {\n",
    "        'global_align': 'global_align_scores_{}-mers'.format(kmer_size),\n",
    "        'cosine_similarity': 'cosine_similarity_{}-mers'.format(kmer_size)\n",
    "    }\n",
    "    \n",
    "    if kmer_size > max_kmer_size:\n",
    "        combinations = (((4**max_kmer_size)**2) - 4**max_kmer_size) // 2\n",
    "        comb_fn = get_rnd_comb\n",
    "    else:\n",
    "        combinations = (((4**kmer_size)**2) - 4**kmer_size) // 2\n",
    "        comb_fn = get_comb\n",
    "    \n",
    "    global_align_exist = os.path.isfile(np_files['global_align'] + '.npy')\n",
    "    cosine_sim_exist = os.path.isfile(np_files['cosine_similarity'] + '.npy')\n",
    "    \n",
    "    done = 0\n",
    "    \n",
    "    if global_align_exist and not new_global_align:\n",
    "        global_align_scores = np.load(np_files['global_align'] + '.npy')\n",
    "        done += 1\n",
    "    else:\n",
    "        global_align_scores = np.zeros(combinations, dtype=np.int8)\n",
    "\n",
    "    if cosine_sim_exist and not new_cosine_similarity:\n",
    "        cosine_similarity = np.load(np_files['cosine_similarity'] + '.npy')\n",
    "        done += 1\n",
    "    else:\n",
    "        cosine_similarity = np.zeros(global_align_scores.size)\n",
    "\n",
    "    if done < 2:\n",
    "        for i, (num_seq1, num_seq2) in tqdm(enumerate(comb_fn(kmer_size, size=combinations)), \n",
    "                                            total=combinations,\n",
    "                                            desc='{}-mer'.format(kmer_size),\n",
    "                                            file=sys.stdout):\n",
    "        \n",
    "            seq1 = number2patten(num_seq1, kmer_size)\n",
    "            seq2 = number2patten(num_seq2, kmer_size)\n",
    "        \n",
    "            if not global_align_exist or new_global_align:\n",
    "                global_align_scores[i] = max([align[2] for align in pairwise2.align.globalxx(seq1, seq2)])\n",
    "            \n",
    "            if not cosine_sim_exist or new_cosine_similarity:\n",
    "                cosine_similarity[i] = 1 - spatial.distance.cosine(kmer_embeddings[num_seq1], \n",
    "                                                                   kmer_embeddings[num_seq2])\n",
    "            \n",
    "        if not global_align_exist or new_global_align:\n",
    "            np.save(np_files['global_align'], global_align_scores)\n",
    "        if not cosine_sim_exist or new_cosine_similarity:\n",
    "            np.save(np_files['cosine_similarity'], cosine_similarity)\n",
    "    \n",
    "    return pd.DataFrame(data={'global_align_scores': global_align_scores,\n",
    "                              'cosine_similarity': cosine_similarity})\n",
    "\n",
    "\n",
    "# Look at all kmer sizes\n",
    "for kmer_size in kmer_sizes:\n",
    "    \n",
    "    emb = slice_out_kmer(kmer_emb, kmer_size, min(kmer_sizes), max(kmer_sizes))\n",
    "    kmer_df = compute_scores(emb, kmer_size, max_kmer_size=4,\n",
    "                             new_global_align=True, new_cosine_similarity=True)\n",
    "    kmer_df['kmer_size'] = kmer_size\n",
    "    \n",
    "    if kmer_size == kmer_sizes[0]:\n",
    "        all_kmer_df = kmer_df.copy()\n",
    "    else:\n",
    "        all_kmer_df = all_kmer_df.append(kmer_df, ignore_index=True)"
   ]
  },
  {
   "cell_type": "code",
   "execution_count": null,
   "metadata": {
    "collapsed": false,
    "deletable": true,
    "editable": true
   },
   "outputs": [],
   "source": [
    "from collections import Counter\n",
    "Counter(all_kmer_df['kmer_size'])"
   ]
  },
  {
   "cell_type": "markdown",
   "metadata": {
    "deletable": true,
    "editable": true
   },
   "source": [
    "### Plotting  Nedleman-Wunsch Score vs. Emb. Cosine Distance"
   ]
  },
  {
   "cell_type": "code",
   "execution_count": null,
   "metadata": {
    "collapsed": false,
    "deletable": true,
    "editable": true
   },
   "outputs": [],
   "source": [
    "#sns.violinplot(x='global_align_scores', y='cosine_similarity', hue='kmer_size', data=all_kmer_df)\n",
    "\n",
    "g = sns.FacetGrid(all_kmer_df, col='kmer_size', size=4, aspect=1, col_wrap=3, sharey=False)\n",
    "#g = g.map(sns.violinplot, 'global_align_scores', 'cosine_similarity')\n",
    "g = g.map(sns.boxplot, 'global_align_scores', 'cosine_similarity')\n",
    "\n",
    "plt.show()"
   ]
  },
  {
   "cell_type": "code",
   "execution_count": null,
   "metadata": {
    "collapsed": false,
    "deletable": true,
    "editable": true
   },
   "outputs": [],
   "source": [
    "# Perfect match\n",
    "seq1 = 'CAGCA'\n",
    "seq2 = 'CAGCA'\n",
    "print(pairwise2.align.globalxx(seq1, seq2))\n",
    "\n",
    "# One mm\n",
    "seq1 = 'CACCA'\n",
    "seq2 = 'CAGCA'\n",
    "print(pairwise2.align.globalxx(seq1, seq2))"
   ]
  },
  {
   "cell_type": "code",
   "execution_count": null,
   "metadata": {
    "collapsed": false,
    "deletable": true,
    "editable": true
   },
   "outputs": [],
   "source": [
    "def euclidean_distance(embs, vector):\n",
    "    return np.sqrt(np.sum((embs - vector) ** 2, axis=1))\n",
    "\n",
    "\n",
    "def get_nn(emb, min_length, max_length, nearest_neighbors=5):\n",
    "    return [number2multisize_patten(seq_num, min_length, max_length) for seq_num in \n",
    "            euclidean_distance(kmer_emb, emb).argsort()[:nearest_neighbors]]\n",
    "\n",
    "\n",
    "def add_emb(seq1, seq2, min_length, max_length, nearest_neighbors=5):\n",
    "    seq1_emb = kmer_emb[multisize_patten2number(seq1, min_length, max_length)]\n",
    "    seq2_emb = kmer_emb[multisize_patten2number(seq2, min_length, max_length)]    \n",
    "    return get_nn(seq1_emb + seq2_emb, min_length, max_length, nearest_neighbors)\n",
    "    \n",
    "\n",
    "def subtract_emb(seq1, seq2, min_length, max_length, nearest_neighbors=5):\n",
    "    seq1_emb = kmer_emb[multisize_patten2number(seq1, min_length, max_length)]\n",
    "    seq2_emb = kmer_emb[multisize_patten2number(seq2, min_length, max_length)]    \n",
    "    return get_nn(seq1_emb - seq2_emb, min_length, max_length, nearest_neighbors)\n",
    "\n",
    "\n",
    "print(add_emb('ATG', 'TCC', 3, 8, 10))\n",
    "\n",
    "print(subtract_emb('ATGTCC', 'TCC', 3, 8, 10))\n"
   ]
  },
  {
   "cell_type": "markdown",
   "metadata": {
    "collapsed": false,
    "deletable": true,
    "editable": true
   },
   "source": [
    "### Example On Euclidean Distance"
   ]
  },
  {
   "cell_type": "code",
   "execution_count": null,
   "metadata": {
    "collapsed": false,
    "deletable": true,
    "editable": true
   },
   "outputs": [],
   "source": [
    "a = np.array([[1,2,3],\n",
    "              [4,5,6],\n",
    "              [7,8,9]])\n",
    "\n",
    "b = np.array([4, 4, 6])\n",
    "\n",
    "print(a - b)\n",
    "\n",
    "dist = np.sqrt(np.sum((a - b)**2, axis=1))\n",
    "print(dist)\n",
    "print(dist.argsort())"
   ]
  },
  {
   "cell_type": "code",
   "execution_count": null,
   "metadata": {
    "collapsed": false,
    "deletable": true,
    "editable": true
   },
   "outputs": [],
   "source": [
    "def get_rnd_comb(kmer_size, **kwargs):\n",
    "    num_kmers = np.arange(4**kmer_size)\n",
    "    end_comb = np.random.choice(num_kmers, (kwargs['size'], 2), replace=True)\n",
    "    \n",
    "    return end_comb\n",
    "\n",
    "\n",
    "#for i, (num_seq1, num_seq2) in enumerate(get_rnd_comb(8, size=10)):\n",
    "#    print(i, num_seq1, num_seq2)\n",
    "\n",
    "t = get_rnd_comb(3, size=10)"
   ]
  },
  {
   "cell_type": "code",
   "execution_count": null,
   "metadata": {
    "collapsed": false,
    "deletable": true,
    "editable": true
   },
   "outputs": [],
   "source": [
    "t[t[:, 0] != t[:, 1]]"
   ]
  }
 ],
 "metadata": {
  "kernelspec": {
   "display_name": "Python 3",
   "language": "python",
   "name": "python3"
  },
  "language_info": {
   "codemirror_mode": {
    "name": "ipython",
    "version": 3
   },
   "file_extension": ".py",
   "mimetype": "text/x-python",
   "name": "python",
   "nbconvert_exporter": "python",
   "pygments_lexer": "ipython3",
   "version": "3.4.3"
  }
 },
 "nbformat": 4,
 "nbformat_minor": 2
}
