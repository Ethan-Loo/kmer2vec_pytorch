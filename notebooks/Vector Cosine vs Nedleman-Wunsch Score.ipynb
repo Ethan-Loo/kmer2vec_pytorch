{
 "cells": [
  {
   "cell_type": "code",
   "execution_count": null,
   "metadata": {
    "collapsed": false,
    "deletable": true,
    "editable": true
   },
   "outputs": [],
   "source": [
    "%matplotlib inline\n",
    "#%matplotlib notebook\n",
    "\n",
    "import numpy as np\n",
    "import matplotlib.pyplot as plt\n",
    "import pickle\n",
    "import sys\n",
    "from collections import defaultdict\n",
    "from scipy import spatial\n",
    "from Bio import pairwise2\n",
    "from tqdm import tqdm_notebook\n",
    "from glob import glob\n",
    "\n",
    "if '../' not in sys.path:\n",
    "    sys.path.append('../')\n",
    "\n",
    "from utils import number2patten\n",
    "\n",
    "plt.style.use('ggplot')"
   ]
  },
  {
   "cell_type": "markdown",
   "metadata": {
    "deletable": true,
    "editable": true
   },
   "source": [
    "### Load Embeddings"
   ]
  },
  {
   "cell_type": "code",
   "execution_count": null,
   "metadata": {
    "collapsed": false,
    "deletable": true,
    "editable": true
   },
   "outputs": [],
   "source": [
    "kmer_sizes = np.array([3, 4, 5])\n",
    "index_offset = np.concatenate(([0], (4**kmer_sizes))).cumsum()\n",
    "\n",
    "glob_str = '../max5_min3_mers_10padding_64embedding_epoch1_batch*.pickle'\n",
    "emb_files = {int(f.rstrip('.pickle').split('batch')[1]): f for f in glob(glob_str)}\n",
    "latest_emb_file = emb_files[sorted(emb_files)[-1]]\n",
    "print(latest_emb_file)\n",
    "\n",
    "kmer_emb = pickle.load(open(latest_emb_file, 'rb'))\n",
    "print('All:', kmer_emb.shape)\n",
    "\n",
    "# Get 5-mers\n",
    "kmer_emb = kmer_emb[index_offset[2]:index_offset[3]]\n",
    "print('Only 5mers:', kmer_emb.shape)"
   ]
  },
  {
   "cell_type": "markdown",
   "metadata": {
    "deletable": true,
    "editable": true
   },
   "source": [
    "### Computing Nedleman-Wunsch Score and Cosine Distance"
   ]
  },
  {
   "cell_type": "code",
   "execution_count": null,
   "metadata": {
    "collapsed": false,
    "deletable": true,
    "editable": true
   },
   "outputs": [],
   "source": [
    "def get_comb(kmer_size=5):\n",
    "    num_kmers = 4**kmer_size\n",
    "    for i in range(0, num_kmers):\n",
    "        for ii in range(i+1, num_kmers):\n",
    "            yield i, ii\n",
    "\n",
    "kmer_size = 5\n",
    "combinations = (((4**kmer_size)**2) - 4**kmer_size) // 2\n",
    "global_align_scores = np.zeros(combinations, dtype=np.int8)\n",
    "cosine_similarity = np.zeros(global_align_scores.size)\n",
    "\n",
    "for i, (num_seq1, num_seq2) in tqdm_notebook(enumerate(get_comb(kmer_size)), total=combinations):\n",
    "    seq1 = number2patten(num_seq1, kmer_size)\n",
    "    seq2 = number2patten(num_seq2, kmer_size)\n",
    "    global_align_scores[i] = max([align[2] for align in pairwise2.align.globalxx(seq1, seq2)])\n",
    "    cosine_similarity[i] = 1 - spatial.distance.cosine(kmer_emb[num_seq1], kmer_emb[num_seq2])\n",
    "    \n",
    "# Saving vectors to file.\n",
    "np.save('global_align_scores_{}-mers'.format(kmer_size), global_align_scores)\n",
    "np.save('cosine_similarity_{}-mers'.format(kmer_size), cosine_similarity)"
   ]
  },
  {
   "cell_type": "code",
   "execution_count": null,
   "metadata": {
    "collapsed": false,
    "deletable": true,
    "editable": true
   },
   "outputs": [],
   "source": [
    "# Load vectors from file.\n",
    "global_align_scores = np.load('global_align_scores_{}-mers.npy'.format(kmer_size))\n",
    "cosine_similarity = np.load('cosine_similarity_{}-mers.npy'.format(kmer_size))"
   ]
  },
  {
   "cell_type": "markdown",
   "metadata": {
    "deletable": true,
    "editable": true
   },
   "source": [
    "### Plotting  Nedleman-Wunsch Score vs. Emb. Cosine Distance"
   ]
  },
  {
   "cell_type": "code",
   "execution_count": null,
   "metadata": {
    "collapsed": false,
    "deletable": true,
    "editable": true
   },
   "outputs": [],
   "source": [
    "box_data = defaultdict(list)\n",
    "for a, b in zip(global_align_scores, cosine_similarity):\n",
    "    box_data[a].append(b)\n",
    "    \n",
    "box_data_labels = sorted(box_data.keys())\n",
    "box_data_lists = [box_data[d] for d in box_data_labels]"
   ]
  },
  {
   "cell_type": "code",
   "execution_count": null,
   "metadata": {
    "collapsed": false,
    "deletable": true,
    "editable": true
   },
   "outputs": [],
   "source": [
    "plt.boxplot(box_data_lists, labels=box_data_labels)\n",
    "plt.xlabel('Nedleman-Wunsch Score')\n",
    "plt.ylabel('Emb. Cosine Similarity')\n",
    "plt.show()"
   ]
  }
 ],
 "metadata": {
  "kernelspec": {
   "display_name": "Python 3",
   "language": "python",
   "name": "python3"
  },
  "language_info": {
   "codemirror_mode": {
    "name": "ipython",
    "version": 3
   },
   "file_extension": ".py",
   "mimetype": "text/x-python",
   "name": "python",
   "nbconvert_exporter": "python",
   "pygments_lexer": "ipython3",
   "version": "3.4.3"
  }
 },
 "nbformat": 4,
 "nbformat_minor": 2
}
